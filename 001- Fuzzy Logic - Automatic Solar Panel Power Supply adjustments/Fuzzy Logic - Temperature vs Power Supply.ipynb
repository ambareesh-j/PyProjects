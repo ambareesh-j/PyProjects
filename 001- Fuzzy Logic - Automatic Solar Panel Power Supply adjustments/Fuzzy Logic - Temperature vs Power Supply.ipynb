{
 "cells": [
  {
   "cell_type": "markdown",
   "metadata": {},
   "source": [
    "## Solar Panel Power Supply calibration using Fuzzy Logic"
   ]
  },
  {
   "cell_type": "code",
   "execution_count": 1,
   "metadata": {},
   "outputs": [],
   "source": [
    "# tmp < 5 C --> 0% Power Supply \n",
    "# 5 < tmp < \n",
    "\n",
    "# Optimum temperature - 15 C to 35 C  \n",
    "# Above 35 C - efficiency might decrease in long-term, so it is better to switch off after this threshold\n",
    "# Below 15 C - to check against temperature "
   ]
  },
  {
   "cell_type": "code",
   "execution_count": 2,
   "metadata": {},
   "outputs": [],
   "source": [
    "def fuzzy_power(temp):\n",
    "    if(temp < 5.00):\n",
    "        return 0\n",
    "    elif(temp >=5.00 and temp < 15.00):\n",
    "        return round( (50 * ((temp - 5.00) / 10.00 )) / 100 , 3)\n",
    "    elif(temp >= 15.00 and temp <= 25.00): \n",
    "        return round( (50 * ((temp - 5.00) / 10.00 )) / 100 , 3)\n",
    "    elif(temp > 25.00 and temp <= 35.00): \n",
    "        return round( (100 - (50*(temp - 25.00) / 10.00)) / 100 , 3)\n",
    "    elif(temp > 35.00 and temp <= 45.00): \n",
    "        return round( (100 - (50*(temp - 25.00) / 10.00)) / 100 , 3)\n",
    "    else:\n",
    "        return 0"
   ]
  },
  {
   "cell_type": "code",
   "execution_count": 3,
   "metadata": {},
   "outputs": [
    {
     "data": {
      "text/plain": [
       "0.15"
      ]
     },
     "execution_count": 3,
     "metadata": {},
     "output_type": "execute_result"
    }
   ],
   "source": [
    "fuzzy_power(8)"
   ]
  },
  {
   "cell_type": "code",
   "execution_count": 4,
   "metadata": {},
   "outputs": [
    {
     "name": "stdout",
     "output_type": "stream",
     "text": [
      "0 , 0 %\n",
      "1 , 0 %\n",
      "2 , 0 %\n",
      "3 , 0 %\n",
      "4 , 0 %\n",
      "5 , 0.0 %\n",
      "6 , 5.0 %\n",
      "7 , 10.0 %\n",
      "8 , 15.0 %\n",
      "9 , 20.0 %\n",
      "10 , 25.0 %\n",
      "11 , 30.0 %\n",
      "12 , 35.0 %\n",
      "13 , 40.0 %\n",
      "14 , 45.0 %\n",
      "15 , 50.0 %\n",
      "16 , 55.00000000000001 %\n",
      "17 , 60.0 %\n",
      "18 , 65.0 %\n",
      "19 , 70.0 %\n",
      "20 , 75.0 %\n",
      "21 , 80.0 %\n",
      "22 , 85.0 %\n",
      "23 , 90.0 %\n",
      "24 , 95.0 %\n",
      "25 , 100.0 %\n",
      "26 , 95.0 %\n",
      "27 , 90.0 %\n",
      "28 , 85.0 %\n",
      "29 , 80.0 %\n",
      "30 , 75.0 %\n",
      "31 , 70.0 %\n",
      "32 , 65.0 %\n",
      "33 , 60.0 %\n",
      "34 , 55.00000000000001 %\n",
      "35 , 50.0 %\n",
      "36 , 45.0 %\n",
      "37 , 40.0 %\n",
      "38 , 35.0 %\n",
      "39 , 30.0 %\n",
      "40 , 25.0 %\n",
      "41 , 20.0 %\n",
      "42 , 15.0 %\n",
      "43 , 10.0 %\n",
      "44 , 5.0 %\n",
      "45 , 0.0 %\n",
      "46 , 0 %\n",
      "47 , 0 %\n",
      "48 , 0 %\n",
      "49 , 0 %\n",
      "50 , 0 %\n",
      "51 , 0 %\n",
      "52 , 0 %\n",
      "53 , 0 %\n",
      "54 , 0 %\n"
     ]
    }
   ],
   "source": [
    "import numpy as np\n",
    "for item in np.arange(0, 55):\n",
    "    print(item , \",\", fuzzy_power(item)*100,\"%\")"
   ]
  },
  {
   "cell_type": "code",
   "execution_count": 5,
   "metadata": {},
   "outputs": [
    {
     "data": {
      "text/html": [
       "<div>\n",
       "<style scoped>\n",
       "    .dataframe tbody tr th:only-of-type {\n",
       "        vertical-align: middle;\n",
       "    }\n",
       "\n",
       "    .dataframe tbody tr th {\n",
       "        vertical-align: top;\n",
       "    }\n",
       "\n",
       "    .dataframe thead th {\n",
       "        text-align: right;\n",
       "    }\n",
       "</style>\n",
       "<table border=\"1\" class=\"dataframe\">\n",
       "  <thead>\n",
       "    <tr style=\"text-align: right;\">\n",
       "      <th></th>\n",
       "      <th>timestamp</th>\n",
       "      <th>Temp</th>\n",
       "      <th>Date</th>\n",
       "    </tr>\n",
       "  </thead>\n",
       "  <tbody>\n",
       "    <tr>\n",
       "      <th>0</th>\n",
       "      <td>20210415T0000</td>\n",
       "      <td>13.179635</td>\n",
       "      <td>4/15/2021</td>\n",
       "    </tr>\n",
       "    <tr>\n",
       "      <th>1</th>\n",
       "      <td>20210415T0100</td>\n",
       "      <td>11.669635</td>\n",
       "      <td>4/15/2021</td>\n",
       "    </tr>\n",
       "    <tr>\n",
       "      <th>2</th>\n",
       "      <td>20210415T0200</td>\n",
       "      <td>10.499635</td>\n",
       "      <td>4/15/2021</td>\n",
       "    </tr>\n",
       "    <tr>\n",
       "      <th>3</th>\n",
       "      <td>20210415T0300</td>\n",
       "      <td>9.419635</td>\n",
       "      <td>4/15/2021</td>\n",
       "    </tr>\n",
       "    <tr>\n",
       "      <th>4</th>\n",
       "      <td>20210415T0400</td>\n",
       "      <td>8.489635</td>\n",
       "      <td>4/15/2021</td>\n",
       "    </tr>\n",
       "  </tbody>\n",
       "</table>\n",
       "</div>"
      ],
      "text/plain": [
       "       timestamp       Temp       Date\n",
       "0  20210415T0000  13.179635  4/15/2021\n",
       "1  20210415T0100  11.669635  4/15/2021\n",
       "2  20210415T0200  10.499635  4/15/2021\n",
       "3  20210415T0300   9.419635  4/15/2021\n",
       "4  20210415T0400   8.489635  4/15/2021"
      ]
     },
     "execution_count": 5,
     "metadata": {},
     "output_type": "execute_result"
    }
   ],
   "source": [
    "import pandas as pd\n",
    "\n",
    "df_temp_melbourne = pd.read_csv('melbourne temp.csv')\n",
    "df_temp_melbourne.head()"
   ]
  },
  {
   "cell_type": "code",
   "execution_count": 6,
   "metadata": {},
   "outputs": [
    {
     "name": "stdout",
     "output_type": "stream",
     "text": [
      "0 4/15/2021 13.179635000000001 0.409\n",
      "1 4/15/2021 11.669635000000001 0.333\n",
      "2 4/15/2021 10.499635000000001 0.275\n",
      "3 4/15/2021 9.419635000000001 0.221\n",
      "4 4/15/2021 8.489635 0.174\n",
      "5 4/15/2021 7.619635000000001 0.131\n",
      "6 4/15/2021 6.729635000000001 0.086\n",
      "7 4/15/2021 5.6696349999999995 0.033\n",
      "8 4/15/2021 9.659635 0.233\n",
      "9 4/15/2021 14.529635 0.476\n",
      "10 4/15/2021 15.419635000000001 0.521\n",
      "11 4/15/2021 16.489635 0.574\n",
      "12 4/15/2021 17.879637 0.644\n",
      "13 4/15/2021 17.679636 0.634\n",
      "14 4/15/2021 17.769636 0.638\n",
      "15 4/15/2021 17.989635 0.649\n",
      "16 4/15/2021 17.479635000000002 0.624\n",
      "17 4/15/2021 17.029636 0.601\n",
      "18 4/15/2021 16.069635 0.553\n",
      "19 4/15/2021 15.539635 0.527\n",
      "20 4/15/2021 14.939635 0.497\n",
      "21 4/15/2021 13.849635000000001 0.442\n",
      "22 4/15/2021 13.289635 0.414\n",
      "23 4/15/2021 12.709635 0.385\n",
      "24 4/16/2021 12.159635 0.358\n",
      "25 4/16/2021 11.579635000000001 0.329\n",
      "26 4/16/2021 11.069635 0.303\n",
      "27 4/16/2021 10.679635000000001 0.284\n",
      "28 4/16/2021 10.269635000000001 0.263\n",
      "29 4/16/2021 9.829635000000001 0.241\n",
      "30 4/16/2021 9.589635000000001 0.229\n",
      "31 4/16/2021 9.389635 0.219\n",
      "32 4/16/2021 9.839635000000001 0.242\n",
      "33 4/16/2021 10.649635 0.282\n",
      "34 4/16/2021 11.419635000000001 0.321\n",
      "35 4/16/2021 12.179635000000001 0.359\n",
      "36 4/16/2021 12.359635 0.368\n",
      "37 4/16/2021 12.669635000000001 0.383\n",
      "38 4/16/2021 12.959635 0.398\n",
      "39 4/16/2021 13.019635000000001 0.401\n",
      "40 4/16/2021 12.629635 0.381\n",
      "41 4/16/2021 12.009635000000001 0.35\n",
      "42 4/16/2021 10.949635 0.297\n",
      "43 4/16/2021 10.679635000000001 0.284\n",
      "44 4/16/2021 10.229635 0.261\n",
      "45 4/16/2021 9.929635000000001 0.246\n",
      "46 4/16/2021 7.829635000000001 0.141\n",
      "47 4/16/2021 7.449635000000001 0.122\n",
      "48 4/17/2021 7.099635 0.105\n",
      "49 4/17/2021 6.819635000000001 0.091\n",
      "50 4/17/2021 6.529635 0.076\n",
      "51 4/17/2021 6.0896349999999995 0.054\n",
      "52 4/17/2021 5.6296349999999995 0.031\n",
      "53 4/17/2021 4.939635 0\n",
      "54 4/17/2021 5.069635 0.003\n",
      "55 4/17/2021 4.989635 0\n",
      "56 4/17/2021 6.889635 0.094\n",
      "57 4/17/2021 10.249635000000001 0.262\n",
      "58 4/17/2021 12.619635 0.381\n",
      "59 4/17/2021 15.729635 0.536\n",
      "60 4/17/2021 17.139635000000002 0.607\n",
      "61 4/17/2021 18.209637 0.66\n",
      "62 4/17/2021 18.829635999999997 0.691\n",
      "63 4/17/2021 18.929636 0.696\n",
      "64 4/17/2021 18.649635 0.682\n",
      "65 4/17/2021 17.689636 0.634\n",
      "66 4/17/2021 16.329635999999997 0.566\n",
      "67 4/17/2021 15.9896345 0.549\n",
      "68 4/17/2021 15.189635 0.509\n",
      "69 4/17/2021 13.859635 0.443\n",
      "70 4/17/2021 13.089635000000001 0.404\n",
      "71 4/17/2021 11.869635 0.343\n",
      "72 4/18/2021 10.7396345 0.287\n",
      "73 4/18/2021 9.479635 0.224\n",
      "74 4/18/2021 8.339635000000001 0.167\n",
      "75 4/18/2021 8.6996355 0.185\n",
      "76 4/18/2021 9.299635 0.215\n",
      "77 4/18/2021 9.269635000000001 0.213\n",
      "78 4/18/2021 9.529635 0.226\n",
      "79 4/18/2021 9.689635 0.234\n",
      "80 4/18/2021 10.759635000000001 0.288\n",
      "81 4/18/2021 12.319635 0.366\n",
      "82 4/18/2021 14.349635000000001 0.467\n",
      "83 4/18/2021 15.509635000000001 0.525\n",
      "84 4/18/2021 16.689636 0.584\n",
      "85 4/18/2021 17.749636 0.637\n",
      "86 4/18/2021 18.379637 0.669\n",
      "87 4/18/2021 18.429636 0.671\n",
      "88 4/18/2021 18.399635 0.67\n",
      "89 4/18/2021 17.869637 0.643\n",
      "90 4/18/2021 16.479635000000002 0.574\n",
      "91 4/18/2021 16.789637 0.589\n",
      "92 4/18/2021 16.449635 0.572\n",
      "93 4/18/2021 15.779635 0.539\n",
      "94 4/18/2021 15.479635 0.524\n",
      "95 4/18/2021 15.289635 0.514\n",
      "96 4/19/2021 15.069635 0.503\n",
      "97 4/19/2021 14.619635 0.481\n",
      "98 4/19/2021 14.649635 0.482\n",
      "99 4/19/2021 14.279635 0.464\n",
      "100 4/19/2021 13.9896345 0.449\n",
      "101 4/19/2021 13.699635 0.435\n",
      "102 4/19/2021 13.569635 0.428\n",
      "103 4/19/2021 13.359635 0.418\n",
      "104 4/19/2021 15.669635000000001 0.533\n",
      "105 4/19/2021 16.919635999999997 0.596\n",
      "106 4/19/2021 17.619637 0.631\n",
      "107 4/19/2021 18.739635 0.687\n",
      "108 4/19/2021 20.009635999999997 0.75\n",
      "109 4/19/2021 20.899635 0.795\n",
      "110 4/19/2021 21.179636 0.809\n",
      "111 4/19/2021 21.329635999999997 0.816\n",
      "112 4/19/2021 20.909636 0.795\n",
      "113 4/19/2021 20.289637 0.764\n",
      "114 4/19/2021 18.939636 0.697\n",
      "115 4/19/2021 19.189636 0.709\n",
      "116 4/19/2021 19.249636 0.712\n",
      "117 4/19/2021 18.749636 0.687\n",
      "118 4/19/2021 18.759635999999997 0.688\n",
      "119 4/19/2021 16.929636 0.596\n",
      "120 4/20/2021 14.109635 0.455\n",
      "121 4/20/2021 10.849635000000001 0.292\n",
      "122 4/20/2021 7.589635 0.129\n",
      "123 4/20/2021 6.949635000000001 0.097\n",
      "124 4/20/2021 6.559635000000001 0.078\n",
      "125 4/20/2021 6.269635 0.063\n",
      "126 4/20/2021 5.5896349999999995 0.029\n",
      "127 4/20/2021 5.019635 0.001\n",
      "128 4/20/2021 8.999635000000001 0.2\n",
      "129 4/20/2021 15.179635000000001 0.509\n",
      "130 4/20/2021 18.349636 0.667\n",
      "131 4/20/2021 19.639635000000002 0.732\n",
      "132 4/20/2021 18.769636 0.688\n",
      "133 4/20/2021 18.049637 0.652\n",
      "134 4/20/2021 15.789635 0.539\n",
      "135 4/20/2021 12.789635 0.389\n",
      "136 4/20/2021 11.769635000000001 0.338\n",
      "137 4/20/2021 10.779635 0.289\n",
      "138 4/20/2021 10.049635 0.252\n",
      "139 4/20/2021 9.719635 0.236\n",
      "140 4/20/2021 9.579635000000001 0.229\n",
      "141 4/20/2021 9.449635 0.222\n",
      "142 4/20/2021 7.469635 0.123\n",
      "143 4/20/2021 8.599635000000001 0.18\n",
      "144 4/21/2021 7.569635000000001 0.128\n",
      "145 4/21/2021 5.939635 0.047\n",
      "146 4/21/2021 4.1896353 0\n",
      "147 4/21/2021 4.8796349999999995 0\n",
      "148 4/21/2021 5.449635 0.022\n",
      "149 4/21/2021 5.699635 0.035\n",
      "150 4/21/2021 5.659635 0.033\n",
      "151 4/21/2021 5.6296349999999995 0.031\n",
      "152 4/21/2021 8.099635000000001 0.155\n",
      "153 4/21/2021 10.649635 0.282\n",
      "154 4/21/2021 11.849635000000001 0.342\n",
      "155 4/21/2021 13.119635 0.406\n",
      "156 4/21/2021 14.439635 0.472\n",
      "157 4/21/2021 15.499635000000001 0.525\n",
      "158 4/21/2021 16.239635 0.562\n",
      "159 4/21/2021 16.529636 0.576\n",
      "160 4/21/2021 16.269636 0.563\n",
      "161 4/21/2021 15.359635 0.518\n",
      "162 4/21/2021 13.809635 0.44\n",
      "163 4/21/2021 13.869635 0.443\n",
      "164 4/21/2021 13.449635 0.422\n",
      "165 4/21/2021 13.219635 0.411\n",
      "166 4/21/2021 12.699635 0.385\n",
      "167 4/21/2021 11.049635 0.302\n",
      "168 4/22/2021 8.959635 0.198\n",
      "169 4/22/2021 8.219635 0.161\n",
      "170 4/22/2021 7.479635000000001 0.124\n",
      "171 4/22/2021 7.439635000000001 0.122\n",
      "172 4/22/2021 8.129635 0.156\n",
      "173 4/22/2021 8.719635 0.186\n",
      "174 4/22/2021 9.129635 0.206\n",
      "175 4/22/2021 9.279635 0.214\n",
      "176 4/22/2021 11.479635 0.324\n",
      "177 4/22/2021 14.329635000000001 0.466\n",
      "178 4/22/2021 15.999635000000001 0.55\n",
      "179 4/22/2021 16.479635000000002 0.574\n",
      "180 4/22/2021 16.289635 0.564\n",
      "181 4/22/2021 16.249636 0.562\n",
      "182 4/22/2021 16.549635000000002 0.577\n",
      "183 4/22/2021 16.859636 0.593\n",
      "184 4/22/2021 17.029636 0.601\n",
      "185 4/22/2021 16.589636 0.579\n",
      "186 4/22/2021 15.579635000000001 0.529\n",
      "187 4/22/2021 15.729635 0.536\n",
      "188 4/22/2021 15.369635 0.518\n",
      "189 4/22/2021 14.559635 0.478\n",
      "190 4/22/2021 14.019635000000001 0.451\n",
      "191 4/22/2021 13.039635 0.402\n"
     ]
    }
   ],
   "source": [
    "for index, row in df_temp_melbourne.iterrows():\n",
    "    print(index, row['Date'], row['Temp'], fuzzy_power(row['Temp']))"
   ]
  },
  {
   "cell_type": "code",
   "execution_count": 7,
   "metadata": {},
   "outputs": [],
   "source": [
    "df_fuzzy = pd.DataFrame(columns=['Date', 'Temp', 'PowerSupply'])\n",
    "\n",
    "for index, row in df_temp_melbourne.iterrows():\n",
    "    df_fuzzy.loc[index] = [row['Date'], row['Temp'], fuzzy_power(row['Temp'])]"
   ]
  },
  {
   "cell_type": "code",
   "execution_count": 8,
   "metadata": {},
   "outputs": [
    {
     "data": {
      "text/html": [
       "<div>\n",
       "<style scoped>\n",
       "    .dataframe tbody tr th:only-of-type {\n",
       "        vertical-align: middle;\n",
       "    }\n",
       "\n",
       "    .dataframe tbody tr th {\n",
       "        vertical-align: top;\n",
       "    }\n",
       "\n",
       "    .dataframe thead th {\n",
       "        text-align: right;\n",
       "    }\n",
       "</style>\n",
       "<table border=\"1\" class=\"dataframe\">\n",
       "  <thead>\n",
       "    <tr style=\"text-align: right;\">\n",
       "      <th></th>\n",
       "      <th>Date</th>\n",
       "      <th>Temp</th>\n",
       "      <th>PowerSupply</th>\n",
       "    </tr>\n",
       "  </thead>\n",
       "  <tbody>\n",
       "    <tr>\n",
       "      <th>0</th>\n",
       "      <td>4/15/2021</td>\n",
       "      <td>13.179635</td>\n",
       "      <td>0.409</td>\n",
       "    </tr>\n",
       "    <tr>\n",
       "      <th>1</th>\n",
       "      <td>4/15/2021</td>\n",
       "      <td>11.669635</td>\n",
       "      <td>0.333</td>\n",
       "    </tr>\n",
       "    <tr>\n",
       "      <th>2</th>\n",
       "      <td>4/15/2021</td>\n",
       "      <td>10.499635</td>\n",
       "      <td>0.275</td>\n",
       "    </tr>\n",
       "    <tr>\n",
       "      <th>3</th>\n",
       "      <td>4/15/2021</td>\n",
       "      <td>9.419635</td>\n",
       "      <td>0.221</td>\n",
       "    </tr>\n",
       "    <tr>\n",
       "      <th>4</th>\n",
       "      <td>4/15/2021</td>\n",
       "      <td>8.489635</td>\n",
       "      <td>0.174</td>\n",
       "    </tr>\n",
       "  </tbody>\n",
       "</table>\n",
       "</div>"
      ],
      "text/plain": [
       "        Date       Temp  PowerSupply\n",
       "0  4/15/2021  13.179635        0.409\n",
       "1  4/15/2021  11.669635        0.333\n",
       "2  4/15/2021  10.499635        0.275\n",
       "3  4/15/2021   9.419635        0.221\n",
       "4  4/15/2021   8.489635        0.174"
      ]
     },
     "execution_count": 8,
     "metadata": {},
     "output_type": "execute_result"
    }
   ],
   "source": [
    "df_fuzzy.head()"
   ]
  },
  {
   "cell_type": "code",
   "execution_count": 9,
   "metadata": {},
   "outputs": [
    {
     "data": {
      "image/png": "[encoded data removed]",
      "text/plain": [
       "<Figure size 432x288 with 1 Axes>"
      ]
     },
     "metadata": {
      "needs_background": "light"
     },
     "output_type": "display_data"
    }
   ],
   "source": [
    "import matplotlib.pyplot as plt\n",
    "import numpy as np\n",
    "\n",
    "x_points = np.array(df_fuzzy.Temp)\n",
    "y_points = np.array(df_fuzzy.PowerSupply)\n",
    "\n",
    "plt.plot(x_points, y_points, marker = 'o')\n",
    "\n",
    "plt.title(\"Melbourne - Temperature vs. Power Supply of Solar Panel\")\n",
    "plt.xlabel(\"Temperature in Melbourne (in degrees Celsius)\")\n",
    "plt.ylabel(\"Power Supply (in %)\")\n",
    "\n",
    "plt.show()"
   ]
  },
  {
   "cell_type": "code",
   "execution_count": 10,
   "metadata": {},
   "outputs": [
    {
     "data": {
      "image/png": "[encoded data removed]",
      "text/plain": [
       "<Figure size 432x288 with 1 Axes>"
      ]
     },
     "metadata": {
      "needs_background": "light"
     },
     "output_type": "display_data"
    }
   ],
   "source": [
    "import matplotlib.pyplot as plt\n",
    "import numpy as np\n",
    "\n",
    "x_points = np.array(df_fuzzy.index)            # Index is a list of points from 15th April to 22nd April\n",
    "y_points = np.array(df_fuzzy.PowerSupply * 100)\n",
    "\n",
    "plt.plot(x_points, y_points, marker = 'o')\n",
    "\n",
    "plt.title(\"Melbourne - Solar Panel Power Supply readings\")\n",
    "plt.xlabel(\"Data points - April 15th to April 22nd - 2021\")\n",
    "plt.ylabel(\"Power Supply (in %)\")\n",
    "\n",
    "plt.show()"
   ]
  },
  {
   "cell_type": "code",
   "execution_count": 11,
   "metadata": {},
   "outputs": [
    {
     "data": {
      "text/html": [
       "<div>\n",
       "<style scoped>\n",
       "    .dataframe tbody tr th:only-of-type {\n",
       "        vertical-align: middle;\n",
       "    }\n",
       "\n",
       "    .dataframe tbody tr th {\n",
       "        vertical-align: top;\n",
       "    }\n",
       "\n",
       "    .dataframe thead th {\n",
       "        text-align: right;\n",
       "    }\n",
       "</style>\n",
       "<table border=\"1\" class=\"dataframe\">\n",
       "  <thead>\n",
       "    <tr style=\"text-align: right;\">\n",
       "      <th></th>\n",
       "      <th>timestamp</th>\n",
       "      <th>Temp</th>\n",
       "      <th>Date</th>\n",
       "    </tr>\n",
       "  </thead>\n",
       "  <tbody>\n",
       "    <tr>\n",
       "      <th>0</th>\n",
       "      <td>20210415T0000</td>\n",
       "      <td>29.212900</td>\n",
       "      <td>4/15/2021</td>\n",
       "    </tr>\n",
       "    <tr>\n",
       "      <th>1</th>\n",
       "      <td>20210415T0100</td>\n",
       "      <td>28.332901</td>\n",
       "      <td>4/15/2021</td>\n",
       "    </tr>\n",
       "    <tr>\n",
       "      <th>2</th>\n",
       "      <td>20210415T0200</td>\n",
       "      <td>27.952900</td>\n",
       "      <td>4/15/2021</td>\n",
       "    </tr>\n",
       "    <tr>\n",
       "      <th>3</th>\n",
       "      <td>20210415T0300</td>\n",
       "      <td>27.602900</td>\n",
       "      <td>4/15/2021</td>\n",
       "    </tr>\n",
       "    <tr>\n",
       "      <th>4</th>\n",
       "      <td>20210415T0400</td>\n",
       "      <td>27.252900</td>\n",
       "      <td>4/15/2021</td>\n",
       "    </tr>\n",
       "  </tbody>\n",
       "</table>\n",
       "</div>"
      ],
      "text/plain": [
       "       timestamp       Temp       Date\n",
       "0  20210415T0000  29.212900  4/15/2021\n",
       "1  20210415T0100  28.332901  4/15/2021\n",
       "2  20210415T0200  27.952900  4/15/2021\n",
       "3  20210415T0300  27.602900  4/15/2021\n",
       "4  20210415T0400  27.252900  4/15/2021"
      ]
     },
     "execution_count": 11,
     "metadata": {},
     "output_type": "execute_result"
    }
   ],
   "source": [
    "df_temp_hyderabad = pd.read_csv('hyderabad temp.csv')\n",
    "df_temp_hyderabad.head()"
   ]
  },
  {
   "cell_type": "code",
   "execution_count": 12,
   "metadata": {},
   "outputs": [
    {
     "data": {
      "text/html": [
       "<div>\n",
       "<style scoped>\n",
       "    .dataframe tbody tr th:only-of-type {\n",
       "        vertical-align: middle;\n",
       "    }\n",
       "\n",
       "    .dataframe tbody tr th {\n",
       "        vertical-align: top;\n",
       "    }\n",
       "\n",
       "    .dataframe thead th {\n",
       "        text-align: right;\n",
       "    }\n",
       "</style>\n",
       "<table border=\"1\" class=\"dataframe\">\n",
       "  <thead>\n",
       "    <tr style=\"text-align: right;\">\n",
       "      <th></th>\n",
       "      <th>Date</th>\n",
       "      <th>Temp</th>\n",
       "      <th>PowerSupply</th>\n",
       "    </tr>\n",
       "  </thead>\n",
       "  <tbody>\n",
       "    <tr>\n",
       "      <th>0</th>\n",
       "      <td>4/15/2021</td>\n",
       "      <td>29.212900</td>\n",
       "      <td>0.789</td>\n",
       "    </tr>\n",
       "    <tr>\n",
       "      <th>1</th>\n",
       "      <td>4/15/2021</td>\n",
       "      <td>28.332901</td>\n",
       "      <td>0.833</td>\n",
       "    </tr>\n",
       "    <tr>\n",
       "      <th>2</th>\n",
       "      <td>4/15/2021</td>\n",
       "      <td>27.952900</td>\n",
       "      <td>0.852</td>\n",
       "    </tr>\n",
       "    <tr>\n",
       "      <th>3</th>\n",
       "      <td>4/15/2021</td>\n",
       "      <td>27.602900</td>\n",
       "      <td>0.870</td>\n",
       "    </tr>\n",
       "    <tr>\n",
       "      <th>4</th>\n",
       "      <td>4/15/2021</td>\n",
       "      <td>27.252900</td>\n",
       "      <td>0.887</td>\n",
       "    </tr>\n",
       "  </tbody>\n",
       "</table>\n",
       "</div>"
      ],
      "text/plain": [
       "        Date       Temp  PowerSupply\n",
       "0  4/15/2021  29.212900        0.789\n",
       "1  4/15/2021  28.332901        0.833\n",
       "2  4/15/2021  27.952900        0.852\n",
       "3  4/15/2021  27.602900        0.870\n",
       "4  4/15/2021  27.252900        0.887"
      ]
     },
     "execution_count": 12,
     "metadata": {},
     "output_type": "execute_result"
    }
   ],
   "source": [
    "df_fuzzy = df_fuzzy[0:0]\n",
    "df_fuzzy = pd.DataFrame(columns=['Date', 'Temp', 'PowerSupply'])\n",
    "\n",
    "for index, row in df_temp_hyderabad.iterrows():\n",
    "    df_fuzzy.loc[index] = [row['Date'], row['Temp'], fuzzy_power(row['Temp'])]\n",
    "    \n",
    "df_fuzzy.head()"
   ]
  },
  {
   "cell_type": "code",
   "execution_count": 13,
   "metadata": {},
   "outputs": [
    {
     "data": {
      "image/png": "[encoded data removed]",
      "text/plain": [
       "<Figure size 432x288 with 1 Axes>"
      ]
     },
     "metadata": {
      "needs_background": "light"
     },
     "output_type": "display_data"
    }
   ],
   "source": [
    "import matplotlib.pyplot as plt\n",
    "import numpy as np\n",
    "\n",
    "x_points = np.array(df_fuzzy.Temp)\n",
    "y_points = np.array(df_fuzzy.PowerSupply * 100)\n",
    "\n",
    "plt.plot(x_points, y_points, marker = 'o', color='g')\n",
    "\n",
    "plt.title(\"Hyderabad - Temperature vs. Power Supply of Solar Panel\")\n",
    "plt.xlabel(\"Temperature in Hyderabad (in degrees Celsius)\")\n",
    "plt.ylabel(\"Power Supply (in %)\")\n",
    "\n",
    "plt.show()"
   ]
  },
  {
   "cell_type": "code",
   "execution_count": 14,
   "metadata": {},
   "outputs": [
    {
     "data": {
      "image/png": "[encoded data removed]",
      "text/plain": [
       "<Figure size 432x288 with 1 Axes>"
      ]
     },
     "metadata": {
      "needs_background": "light"
     },
     "output_type": "display_data"
    }
   ],
   "source": [
    "import matplotlib.pyplot as plt\n",
    "import numpy as np\n",
    "\n",
    "x_points = np.array(df_fuzzy.index)            # Index is a list of points from 15th April to 22nd April\n",
    "y_points = np.array(df_fuzzy.PowerSupply)\n",
    "\n",
    "plt.plot(x_points, y_points, marker = 'o', color='g')\n",
    "\n",
    "plt.title(\"Hyderabad - Solar Panel Power Supply readings\")\n",
    "plt.xlabel(\"Data points - April 15th to April 22nd - 2021\")\n",
    "plt.ylabel(\"Power Supply (in %)\")\n",
    "\n",
    "plt.show()"
   ]
  },
  {
   "cell_type": "code",
   "execution_count": null,
   "metadata": {},
   "outputs": [],
   "source": []
  },
  {
   "cell_type": "code",
   "execution_count": null,
   "metadata": {},
   "outputs": [],
   "source": []
  },
  {
   "cell_type": "code",
   "execution_count": null,
   "metadata": {},
   "outputs": [],
   "source": []
  },
  {
   "cell_type": "code",
   "execution_count": null,
   "metadata": {},
   "outputs": [],
   "source": []
  },
  {
   "cell_type": "code",
   "execution_count": null,
   "metadata": {},
   "outputs": [],
   "source": []
  }
 ],
 "metadata": {
  "kernelspec": {
   "display_name": "Python 3",
   "language": "python",
   "name": "python3"
  },
  "language_info": {
   "codemirror_mode": {
    "name": "ipython",
    "version": 3
   },
   "file_extension": ".py",
   "mimetype": "text/x-python",
   "name": "python",
   "nbconvert_exporter": "python",
   "pygments_lexer": "ipython3",
   "version": "3.8.5"
  }
 },
 "nbformat": 4,
 "nbformat_minor": 4
}
